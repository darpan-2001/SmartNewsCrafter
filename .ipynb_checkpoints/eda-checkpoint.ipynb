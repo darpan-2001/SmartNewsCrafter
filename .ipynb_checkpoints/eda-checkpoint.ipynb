{
 "cells": [
  {
   "cell_type": "code",
   "execution_count": 1,
   "id": "8a1a10c3",
   "metadata": {},
   "outputs": [],
   "source": [
    "import pandas as pd\n",
    "from tqdm import tqdm"
   ]
  },
  {
   "cell_type": "code",
   "execution_count": 32,
   "id": "881933b7",
   "metadata": {},
   "outputs": [],
   "source": [
    "df = pd.read_json('News_Category_Dataset_v3.json', lines=True)"
   ]
  },
  {
   "cell_type": "code",
   "execution_count": 33,
   "id": "05005334",
   "metadata": {},
   "outputs": [
    {
     "data": {
      "text/html": [
       "<div>\n",
       "<style scoped>\n",
       "    .dataframe tbody tr th:only-of-type {\n",
       "        vertical-align: middle;\n",
       "    }\n",
       "\n",
       "    .dataframe tbody tr th {\n",
       "        vertical-align: top;\n",
       "    }\n",
       "\n",
       "    .dataframe thead th {\n",
       "        text-align: right;\n",
       "    }\n",
       "</style>\n",
       "<table border=\"1\" class=\"dataframe\">\n",
       "  <thead>\n",
       "    <tr style=\"text-align: right;\">\n",
       "      <th></th>\n",
       "      <th>link</th>\n",
       "      <th>headline</th>\n",
       "      <th>category</th>\n",
       "      <th>short_description</th>\n",
       "      <th>authors</th>\n",
       "      <th>date</th>\n",
       "    </tr>\n",
       "  </thead>\n",
       "  <tbody>\n",
       "    <tr>\n",
       "      <th>0</th>\n",
       "      <td>https://www.huffpost.com/entry/covid-boosters-...</td>\n",
       "      <td>Over 4 Million Americans Roll Up Sleeves For O...</td>\n",
       "      <td>U.S. NEWS</td>\n",
       "      <td>Health experts said it is too early to predict...</td>\n",
       "      <td>Carla K. Johnson, AP</td>\n",
       "      <td>2022-09-23</td>\n",
       "    </tr>\n",
       "    <tr>\n",
       "      <th>1</th>\n",
       "      <td>https://www.huffpost.com/entry/american-airlin...</td>\n",
       "      <td>American Airlines Flyer Charged, Banned For Li...</td>\n",
       "      <td>U.S. NEWS</td>\n",
       "      <td>He was subdued by passengers and crew when he ...</td>\n",
       "      <td>Mary Papenfuss</td>\n",
       "      <td>2022-09-23</td>\n",
       "    </tr>\n",
       "    <tr>\n",
       "      <th>2</th>\n",
       "      <td>https://www.huffpost.com/entry/funniest-tweets...</td>\n",
       "      <td>23 Of The Funniest Tweets About Cats And Dogs ...</td>\n",
       "      <td>COMEDY</td>\n",
       "      <td>\"Until you have a dog you don't understand wha...</td>\n",
       "      <td>Elyse Wanshel</td>\n",
       "      <td>2022-09-23</td>\n",
       "    </tr>\n",
       "    <tr>\n",
       "      <th>3</th>\n",
       "      <td>https://www.huffpost.com/entry/funniest-parent...</td>\n",
       "      <td>The Funniest Tweets From Parents This Week (Se...</td>\n",
       "      <td>PARENTING</td>\n",
       "      <td>\"Accidentally put grown-up toothpaste on my to...</td>\n",
       "      <td>Caroline Bologna</td>\n",
       "      <td>2022-09-23</td>\n",
       "    </tr>\n",
       "    <tr>\n",
       "      <th>4</th>\n",
       "      <td>https://www.huffpost.com/entry/amy-cooper-lose...</td>\n",
       "      <td>Woman Who Called Cops On Black Bird-Watcher Lo...</td>\n",
       "      <td>U.S. NEWS</td>\n",
       "      <td>Amy Cooper accused investment firm Franklin Te...</td>\n",
       "      <td>Nina Golgowski</td>\n",
       "      <td>2022-09-22</td>\n",
       "    </tr>\n",
       "  </tbody>\n",
       "</table>\n",
       "</div>"
      ],
      "text/plain": [
       "                                                link  \\\n",
       "0  https://www.huffpost.com/entry/covid-boosters-...   \n",
       "1  https://www.huffpost.com/entry/american-airlin...   \n",
       "2  https://www.huffpost.com/entry/funniest-tweets...   \n",
       "3  https://www.huffpost.com/entry/funniest-parent...   \n",
       "4  https://www.huffpost.com/entry/amy-cooper-lose...   \n",
       "\n",
       "                                            headline   category  \\\n",
       "0  Over 4 Million Americans Roll Up Sleeves For O...  U.S. NEWS   \n",
       "1  American Airlines Flyer Charged, Banned For Li...  U.S. NEWS   \n",
       "2  23 Of The Funniest Tweets About Cats And Dogs ...     COMEDY   \n",
       "3  The Funniest Tweets From Parents This Week (Se...  PARENTING   \n",
       "4  Woman Who Called Cops On Black Bird-Watcher Lo...  U.S. NEWS   \n",
       "\n",
       "                                   short_description               authors  \\\n",
       "0  Health experts said it is too early to predict...  Carla K. Johnson, AP   \n",
       "1  He was subdued by passengers and crew when he ...        Mary Papenfuss   \n",
       "2  \"Until you have a dog you don't understand wha...         Elyse Wanshel   \n",
       "3  \"Accidentally put grown-up toothpaste on my to...      Caroline Bologna   \n",
       "4  Amy Cooper accused investment firm Franklin Te...        Nina Golgowski   \n",
       "\n",
       "        date  \n",
       "0 2022-09-23  \n",
       "1 2022-09-23  \n",
       "2 2022-09-23  \n",
       "3 2022-09-23  \n",
       "4 2022-09-22  "
      ]
     },
     "execution_count": 33,
     "metadata": {},
     "output_type": "execute_result"
    }
   ],
   "source": [
    "df.head()"
   ]
  },
  {
   "cell_type": "code",
   "execution_count": 4,
   "id": "1f8f72cd",
   "metadata": {},
   "outputs": [],
   "source": [
    "df.drop(columns=['link', 'authors', 'date'], axis=1, inplace=True)"
   ]
  },
  {
   "cell_type": "code",
   "execution_count": 5,
   "id": "eeb3211e",
   "metadata": {},
   "outputs": [
    {
     "data": {
      "text/html": [
       "<div>\n",
       "<style scoped>\n",
       "    .dataframe tbody tr th:only-of-type {\n",
       "        vertical-align: middle;\n",
       "    }\n",
       "\n",
       "    .dataframe tbody tr th {\n",
       "        vertical-align: top;\n",
       "    }\n",
       "\n",
       "    .dataframe thead th {\n",
       "        text-align: right;\n",
       "    }\n",
       "</style>\n",
       "<table border=\"1\" class=\"dataframe\">\n",
       "  <thead>\n",
       "    <tr style=\"text-align: right;\">\n",
       "      <th></th>\n",
       "      <th>headline</th>\n",
       "      <th>category</th>\n",
       "      <th>short_description</th>\n",
       "    </tr>\n",
       "  </thead>\n",
       "  <tbody>\n",
       "    <tr>\n",
       "      <th>0</th>\n",
       "      <td>Over 4 Million Americans Roll Up Sleeves For O...</td>\n",
       "      <td>U.S. NEWS</td>\n",
       "      <td>Health experts said it is too early to predict...</td>\n",
       "    </tr>\n",
       "    <tr>\n",
       "      <th>1</th>\n",
       "      <td>American Airlines Flyer Charged, Banned For Li...</td>\n",
       "      <td>U.S. NEWS</td>\n",
       "      <td>He was subdued by passengers and crew when he ...</td>\n",
       "    </tr>\n",
       "    <tr>\n",
       "      <th>2</th>\n",
       "      <td>23 Of The Funniest Tweets About Cats And Dogs ...</td>\n",
       "      <td>COMEDY</td>\n",
       "      <td>\"Until you have a dog you don't understand wha...</td>\n",
       "    </tr>\n",
       "    <tr>\n",
       "      <th>3</th>\n",
       "      <td>The Funniest Tweets From Parents This Week (Se...</td>\n",
       "      <td>PARENTING</td>\n",
       "      <td>\"Accidentally put grown-up toothpaste on my to...</td>\n",
       "    </tr>\n",
       "    <tr>\n",
       "      <th>4</th>\n",
       "      <td>Woman Who Called Cops On Black Bird-Watcher Lo...</td>\n",
       "      <td>U.S. NEWS</td>\n",
       "      <td>Amy Cooper accused investment firm Franklin Te...</td>\n",
       "    </tr>\n",
       "  </tbody>\n",
       "</table>\n",
       "</div>"
      ],
      "text/plain": [
       "                                            headline   category  \\\n",
       "0  Over 4 Million Americans Roll Up Sleeves For O...  U.S. NEWS   \n",
       "1  American Airlines Flyer Charged, Banned For Li...  U.S. NEWS   \n",
       "2  23 Of The Funniest Tweets About Cats And Dogs ...     COMEDY   \n",
       "3  The Funniest Tweets From Parents This Week (Se...  PARENTING   \n",
       "4  Woman Who Called Cops On Black Bird-Watcher Lo...  U.S. NEWS   \n",
       "\n",
       "                                   short_description  \n",
       "0  Health experts said it is too early to predict...  \n",
       "1  He was subdued by passengers and crew when he ...  \n",
       "2  \"Until you have a dog you don't understand wha...  \n",
       "3  \"Accidentally put grown-up toothpaste on my to...  \n",
       "4  Amy Cooper accused investment firm Franklin Te...  "
      ]
     },
     "execution_count": 5,
     "metadata": {},
     "output_type": "execute_result"
    }
   ],
   "source": [
    "df.head()"
   ]
  },
  {
   "cell_type": "code",
   "execution_count": 6,
   "id": "3f326494",
   "metadata": {},
   "outputs": [
    {
     "data": {
      "text/plain": [
       "headline             0\n",
       "category             0\n",
       "short_description    0\n",
       "dtype: int64"
      ]
     },
     "execution_count": 6,
     "metadata": {},
     "output_type": "execute_result"
    }
   ],
   "source": [
    "df.isna().sum()"
   ]
  },
  {
   "cell_type": "code",
   "execution_count": 7,
   "id": "37e9beeb",
   "metadata": {},
   "outputs": [],
   "source": [
    "df.drop(columns=['headline'], axis=1, inplace=True)"
   ]
  },
  {
   "cell_type": "code",
   "execution_count": 8,
   "id": "0b31c86f",
   "metadata": {},
   "outputs": [
    {
     "data": {
      "text/html": [
       "<div>\n",
       "<style scoped>\n",
       "    .dataframe tbody tr th:only-of-type {\n",
       "        vertical-align: middle;\n",
       "    }\n",
       "\n",
       "    .dataframe tbody tr th {\n",
       "        vertical-align: top;\n",
       "    }\n",
       "\n",
       "    .dataframe thead th {\n",
       "        text-align: right;\n",
       "    }\n",
       "</style>\n",
       "<table border=\"1\" class=\"dataframe\">\n",
       "  <thead>\n",
       "    <tr style=\"text-align: right;\">\n",
       "      <th></th>\n",
       "      <th>category</th>\n",
       "      <th>short_description</th>\n",
       "    </tr>\n",
       "  </thead>\n",
       "  <tbody>\n",
       "    <tr>\n",
       "      <th>0</th>\n",
       "      <td>U.S. NEWS</td>\n",
       "      <td>Health experts said it is too early to predict...</td>\n",
       "    </tr>\n",
       "    <tr>\n",
       "      <th>1</th>\n",
       "      <td>U.S. NEWS</td>\n",
       "      <td>He was subdued by passengers and crew when he ...</td>\n",
       "    </tr>\n",
       "    <tr>\n",
       "      <th>2</th>\n",
       "      <td>COMEDY</td>\n",
       "      <td>\"Until you have a dog you don't understand wha...</td>\n",
       "    </tr>\n",
       "    <tr>\n",
       "      <th>3</th>\n",
       "      <td>PARENTING</td>\n",
       "      <td>\"Accidentally put grown-up toothpaste on my to...</td>\n",
       "    </tr>\n",
       "    <tr>\n",
       "      <th>4</th>\n",
       "      <td>U.S. NEWS</td>\n",
       "      <td>Amy Cooper accused investment firm Franklin Te...</td>\n",
       "    </tr>\n",
       "  </tbody>\n",
       "</table>\n",
       "</div>"
      ],
      "text/plain": [
       "    category                                  short_description\n",
       "0  U.S. NEWS  Health experts said it is too early to predict...\n",
       "1  U.S. NEWS  He was subdued by passengers and crew when he ...\n",
       "2     COMEDY  \"Until you have a dog you don't understand wha...\n",
       "3  PARENTING  \"Accidentally put grown-up toothpaste on my to...\n",
       "4  U.S. NEWS  Amy Cooper accused investment firm Franklin Te..."
      ]
     },
     "execution_count": 8,
     "metadata": {},
     "output_type": "execute_result"
    }
   ],
   "source": [
    "df.head()"
   ]
  },
  {
   "cell_type": "code",
   "execution_count": 9,
   "id": "530a681c",
   "metadata": {},
   "outputs": [
    {
     "data": {
      "text/plain": [
       "42"
      ]
     },
     "execution_count": 9,
     "metadata": {},
     "output_type": "execute_result"
    }
   ],
   "source": [
    "len(df['category'].unique())"
   ]
  },
  {
   "cell_type": "code",
   "execution_count": 10,
   "id": "3bd376a4",
   "metadata": {},
   "outputs": [
    {
     "data": {
      "text/plain": [
       "['ARTS',\n",
       " 'ARTS & CULTURE',\n",
       " 'BLACK VOICES',\n",
       " 'BUSINESS',\n",
       " 'COLLEGE',\n",
       " 'COMEDY',\n",
       " 'CRIME',\n",
       " 'CULTURE & ARTS',\n",
       " 'DIVORCE',\n",
       " 'EDUCATION',\n",
       " 'ENTERTAINMENT',\n",
       " 'ENVIRONMENT',\n",
       " 'FIFTY',\n",
       " 'FOOD & DRINK',\n",
       " 'GOOD NEWS',\n",
       " 'GREEN',\n",
       " 'HEALTHY LIVING',\n",
       " 'HOME & LIVING',\n",
       " 'IMPACT',\n",
       " 'LATINO VOICES',\n",
       " 'MEDIA',\n",
       " 'MONEY',\n",
       " 'PARENTING',\n",
       " 'PARENTS',\n",
       " 'POLITICS',\n",
       " 'QUEER VOICES',\n",
       " 'RELIGION',\n",
       " 'SCIENCE',\n",
       " 'SPORTS',\n",
       " 'STYLE',\n",
       " 'STYLE & BEAUTY',\n",
       " 'TASTE',\n",
       " 'TECH',\n",
       " 'THE WORLDPOST',\n",
       " 'TRAVEL',\n",
       " 'U.S. NEWS',\n",
       " 'WEDDINGS',\n",
       " 'WEIRD NEWS',\n",
       " 'WELLNESS',\n",
       " 'WOMEN',\n",
       " 'WORLD NEWS',\n",
       " 'WORLDPOST']"
      ]
     },
     "execution_count": 10,
     "metadata": {},
     "output_type": "execute_result"
    }
   ],
   "source": [
    "sorted(df['category'].unique())"
   ]
  },
  {
   "cell_type": "code",
   "execution_count": 11,
   "id": "ba40408e",
   "metadata": {},
   "outputs": [
    {
     "data": {
      "text/plain": [
       "POLITICS          35602\n",
       "WELLNESS          17945\n",
       "ENTERTAINMENT     17362\n",
       "TRAVEL             9900\n",
       "STYLE & BEAUTY     9814\n",
       "PARENTING          8791\n",
       "HEALTHY LIVING     6694\n",
       "QUEER VOICES       6347\n",
       "FOOD & DRINK       6340\n",
       "BUSINESS           5992\n",
       "COMEDY             5400\n",
       "SPORTS             5077\n",
       "BLACK VOICES       4583\n",
       "HOME & LIVING      4320\n",
       "PARENTS            3955\n",
       "THE WORLDPOST      3664\n",
       "WEDDINGS           3653\n",
       "WOMEN              3572\n",
       "CRIME              3562\n",
       "IMPACT             3484\n",
       "DIVORCE            3426\n",
       "WORLD NEWS         3299\n",
       "MEDIA              2944\n",
       "WEIRD NEWS         2777\n",
       "GREEN              2622\n",
       "WORLDPOST          2579\n",
       "RELIGION           2577\n",
       "STYLE              2254\n",
       "SCIENCE            2206\n",
       "TECH               2104\n",
       "TASTE              2096\n",
       "MONEY              1756\n",
       "ARTS               1509\n",
       "ENVIRONMENT        1444\n",
       "FIFTY              1401\n",
       "GOOD NEWS          1398\n",
       "U.S. NEWS          1377\n",
       "ARTS & CULTURE     1339\n",
       "COLLEGE            1144\n",
       "LATINO VOICES      1130\n",
       "CULTURE & ARTS     1074\n",
       "EDUCATION          1014\n",
       "Name: category, dtype: int64"
      ]
     },
     "execution_count": 11,
     "metadata": {},
     "output_type": "execute_result"
    }
   ],
   "source": [
    "df['category'].value_counts()"
   ]
  },
  {
   "cell_type": "code",
   "execution_count": 12,
   "id": "4561b90b",
   "metadata": {},
   "outputs": [
    {
     "data": {
      "text/html": [
       "<div>\n",
       "<style scoped>\n",
       "    .dataframe tbody tr th:only-of-type {\n",
       "        vertical-align: middle;\n",
       "    }\n",
       "\n",
       "    .dataframe tbody tr th {\n",
       "        vertical-align: top;\n",
       "    }\n",
       "\n",
       "    .dataframe thead th {\n",
       "        text-align: right;\n",
       "    }\n",
       "</style>\n",
       "<table border=\"1\" class=\"dataframe\">\n",
       "  <thead>\n",
       "    <tr style=\"text-align: right;\">\n",
       "      <th></th>\n",
       "      <th>category</th>\n",
       "      <th>short_description</th>\n",
       "    </tr>\n",
       "  </thead>\n",
       "  <tbody>\n",
       "    <tr>\n",
       "      <th>121663</th>\n",
       "      <td>EDUCATION</td>\n",
       "      <td>The lack of women and minorities in philosophy...</td>\n",
       "    </tr>\n",
       "    <tr>\n",
       "      <th>115422</th>\n",
       "      <td>EDUCATION</td>\n",
       "      <td>Gone are the days of President Reagan's ketchu...</td>\n",
       "    </tr>\n",
       "    <tr>\n",
       "      <th>107116</th>\n",
       "      <td>EDUCATION</td>\n",
       "      <td>Given those kinds of positive results for Wisc...</td>\n",
       "    </tr>\n",
       "    <tr>\n",
       "      <th>103679</th>\n",
       "      <td>EDUCATION</td>\n",
       "      <td>I've resisted this notion for a long time. The...</td>\n",
       "    </tr>\n",
       "    <tr>\n",
       "      <th>119813</th>\n",
       "      <td>EDUCATION</td>\n",
       "      <td>This new way of looking at ELL students, as un...</td>\n",
       "    </tr>\n",
       "    <tr>\n",
       "      <th>42577</th>\n",
       "      <td>EDUCATION</td>\n",
       "      <td>Each year, the Gates Foundation issues an annu...</td>\n",
       "    </tr>\n",
       "    <tr>\n",
       "      <th>119219</th>\n",
       "      <td>EDUCATION</td>\n",
       "      <td>Marc Tucker, president and chief executive of ...</td>\n",
       "    </tr>\n",
       "    <tr>\n",
       "      <th>36249</th>\n",
       "      <td>EDUCATION</td>\n",
       "      <td>One of the great contradictions within corpora...</td>\n",
       "    </tr>\n",
       "    <tr>\n",
       "      <th>128606</th>\n",
       "      <td>EDUCATION</td>\n",
       "      <td>Nationwide, adolescents and teens are routinel...</td>\n",
       "    </tr>\n",
       "    <tr>\n",
       "      <th>35616</th>\n",
       "      <td>EDUCATION</td>\n",
       "      <td>There’s a lot of banter about the substance an...</td>\n",
       "    </tr>\n",
       "    <tr>\n",
       "      <th>23978</th>\n",
       "      <td>EDUCATION</td>\n",
       "      <td>\"We may see it all as rhetoric and posturing, ...</td>\n",
       "    </tr>\n",
       "    <tr>\n",
       "      <th>116329</th>\n",
       "      <td>EDUCATION</td>\n",
       "      <td>We know that early education creates a foundat...</td>\n",
       "    </tr>\n",
       "    <tr>\n",
       "      <th>42298</th>\n",
       "      <td>EDUCATION</td>\n",
       "      <td>\"We have no intention of backing down no matte...</td>\n",
       "    </tr>\n",
       "    <tr>\n",
       "      <th>57500</th>\n",
       "      <td>EDUCATION</td>\n",
       "      <td>I am a native New Yorkers so I have hated San ...</td>\n",
       "    </tr>\n",
       "    <tr>\n",
       "      <th>99344</th>\n",
       "      <td>EDUCATION</td>\n",
       "      <td>Overshadowing this admirable cultural exchange...</td>\n",
       "    </tr>\n",
       "  </tbody>\n",
       "</table>\n",
       "</div>"
      ],
      "text/plain": [
       "         category                                  short_description\n",
       "121663  EDUCATION  The lack of women and minorities in philosophy...\n",
       "115422  EDUCATION  Gone are the days of President Reagan's ketchu...\n",
       "107116  EDUCATION  Given those kinds of positive results for Wisc...\n",
       "103679  EDUCATION  I've resisted this notion for a long time. The...\n",
       "119813  EDUCATION  This new way of looking at ELL students, as un...\n",
       "42577   EDUCATION  Each year, the Gates Foundation issues an annu...\n",
       "119219  EDUCATION  Marc Tucker, president and chief executive of ...\n",
       "36249   EDUCATION  One of the great contradictions within corpora...\n",
       "128606  EDUCATION  Nationwide, adolescents and teens are routinel...\n",
       "35616   EDUCATION  There’s a lot of banter about the substance an...\n",
       "23978   EDUCATION  \"We may see it all as rhetoric and posturing, ...\n",
       "116329  EDUCATION  We know that early education creates a foundat...\n",
       "42298   EDUCATION  \"We have no intention of backing down no matte...\n",
       "57500   EDUCATION  I am a native New Yorkers so I have hated San ...\n",
       "99344   EDUCATION  Overshadowing this admirable cultural exchange..."
      ]
     },
     "execution_count": 12,
     "metadata": {},
     "output_type": "execute_result"
    }
   ],
   "source": [
    "df[df['category'] == 'EDUCATION'].sample(15)"
   ]
  },
  {
   "cell_type": "code",
   "execution_count": 13,
   "id": "99116346",
   "metadata": {},
   "outputs": [
    {
     "data": {
      "text/plain": [
       "''"
      ]
     },
     "execution_count": 13,
     "metadata": {},
     "output_type": "execute_result"
    }
   ],
   "source": [
    "df.iloc[132924].short_description"
   ]
  },
  {
   "cell_type": "code",
   "execution_count": 14,
   "id": "d2d61d09",
   "metadata": {},
   "outputs": [
    {
     "name": "stderr",
     "output_type": "stream",
     "text": [
      "100%|████████████████████████████████████████████████████████████████████████| 209527/209527 [00:49<00:00, 4228.01it/s]\n"
     ]
    }
   ],
   "source": [
    "# removing empty string values from data\n",
    "new_description_list = []\n",
    "category_list = []\n",
    "\n",
    "for i in tqdm(range(len(df))):\n",
    "    curr_text = df.iloc[i].short_description\n",
    "    curr_label = df.iloc[i].category\n",
    "    \n",
    "    if curr_text == '':\n",
    "        continue\n",
    "    else:\n",
    "        new_description_list.append(curr_text)\n",
    "        category_list.append(curr_label)"
   ]
  },
  {
   "cell_type": "code",
   "execution_count": 15,
   "id": "2e636684",
   "metadata": {},
   "outputs": [
    {
     "data": {
      "text/plain": [
       "True"
      ]
     },
     "execution_count": 15,
     "metadata": {},
     "output_type": "execute_result"
    }
   ],
   "source": [
    "len(new_description_list) == len(category_list)"
   ]
  },
  {
   "cell_type": "code",
   "execution_count": 16,
   "id": "446ad63a",
   "metadata": {},
   "outputs": [
    {
     "data": {
      "text/plain": [
       "189815"
      ]
     },
     "execution_count": 16,
     "metadata": {},
     "output_type": "execute_result"
    }
   ],
   "source": [
    "len(new_description_list)"
   ]
  },
  {
   "cell_type": "code",
   "execution_count": 17,
   "id": "5a0c91b6",
   "metadata": {},
   "outputs": [],
   "source": [
    "new_df = pd.DataFrame()\n",
    "new_df['description'] = new_description_list\n",
    "new_df['label'] = category_list"
   ]
  },
  {
   "cell_type": "code",
   "execution_count": 30,
   "id": "27453925",
   "metadata": {},
   "outputs": [],
   "source": [
    "# new_df"
   ]
  },
  {
   "cell_type": "code",
   "execution_count": 18,
   "id": "335b7d8a",
   "metadata": {},
   "outputs": [
    {
     "data": {
      "text/plain": [
       "42"
      ]
     },
     "execution_count": 18,
     "metadata": {},
     "output_type": "execute_result"
    }
   ],
   "source": [
    "len(new_df['label'].unique())"
   ]
  },
  {
   "cell_type": "code",
   "execution_count": 19,
   "id": "88d7a342",
   "metadata": {},
   "outputs": [
    {
     "data": {
      "text/plain": [
       "POLITICS          32441\n",
       "WELLNESS          17943\n",
       "ENTERTAINMENT     14774\n",
       "STYLE & BEAUTY     9802\n",
       "TRAVEL             9421\n",
       "PARENTING          8790\n",
       "FOOD & DRINK       6331\n",
       "QUEER VOICES       5603\n",
       "HEALTHY LIVING     5265\n",
       "BUSINESS           5132\n",
       "COMEDY             4642\n",
       "SPORTS             4414\n",
       "HOME & LIVING      4317\n",
       "BLACK VOICES       4177\n",
       "THE WORLDPOST      3664\n",
       "WEDDINGS           3653\n",
       "PARENTS            3556\n",
       "DIVORCE            3426\n",
       "WORLD NEWS         3297\n",
       "WOMEN              3184\n",
       "IMPACT             3086\n",
       "CRIME              2832\n",
       "MEDIA              2404\n",
       "WEIRD NEWS         2316\n",
       "TECH               2103\n",
       "GREEN              2046\n",
       "TASTE              1940\n",
       "RELIGION           1879\n",
       "SCIENCE            1803\n",
       "MONEY              1755\n",
       "STYLE              1567\n",
       "ENVIRONMENT        1442\n",
       "U.S. NEWS          1377\n",
       "ARTS & CULTURE     1339\n",
       "WORLDPOST          1242\n",
       "CULTURE & ARTS     1063\n",
       "FIFTY              1042\n",
       "GOOD NEWS          1039\n",
       "LATINO VOICES      1022\n",
       "COLLEGE             921\n",
       "EDUCATION           902\n",
       "ARTS                863\n",
       "Name: label, dtype: int64"
      ]
     },
     "execution_count": 19,
     "metadata": {},
     "output_type": "execute_result"
    }
   ],
   "source": [
    "new_df['label'].value_counts()"
   ]
  },
  {
   "cell_type": "code",
   "execution_count": 20,
   "id": "7f86bdf9",
   "metadata": {},
   "outputs": [
    {
     "data": {
      "text/html": [
       "<div>\n",
       "<style scoped>\n",
       "    .dataframe tbody tr th:only-of-type {\n",
       "        vertical-align: middle;\n",
       "    }\n",
       "\n",
       "    .dataframe tbody tr th {\n",
       "        vertical-align: top;\n",
       "    }\n",
       "\n",
       "    .dataframe thead th {\n",
       "        text-align: right;\n",
       "    }\n",
       "</style>\n",
       "<table border=\"1\" class=\"dataframe\">\n",
       "  <thead>\n",
       "    <tr style=\"text-align: right;\">\n",
       "      <th></th>\n",
       "      <th>description</th>\n",
       "      <th>label</th>\n",
       "    </tr>\n",
       "  </thead>\n",
       "  <tbody>\n",
       "    <tr>\n",
       "      <th>80421</th>\n",
       "      <td>I will be glad to see NCLB left behind and RTT...</td>\n",
       "      <td>EDUCATION</td>\n",
       "    </tr>\n",
       "    <tr>\n",
       "      <th>98392</th>\n",
       "      <td>Talent is fueled by a natural curiosity and lo...</td>\n",
       "      <td>EDUCATION</td>\n",
       "    </tr>\n",
       "    <tr>\n",
       "      <th>110303</th>\n",
       "      <td>There should have been a conversation about wh...</td>\n",
       "      <td>EDUCATION</td>\n",
       "    </tr>\n",
       "    <tr>\n",
       "      <th>25125</th>\n",
       "      <td>The mandated curriculum, we decided, would nev...</td>\n",
       "      <td>EDUCATION</td>\n",
       "    </tr>\n",
       "    <tr>\n",
       "      <th>107527</th>\n",
       "      <td>This new way of looking at ELL students, as un...</td>\n",
       "      <td>EDUCATION</td>\n",
       "    </tr>\n",
       "    <tr>\n",
       "      <th>94365</th>\n",
       "      <td>High school exchanges participants make a prof...</td>\n",
       "      <td>EDUCATION</td>\n",
       "    </tr>\n",
       "    <tr>\n",
       "      <th>111090</th>\n",
       "      <td>If you do not object to another remake of ET w...</td>\n",
       "      <td>EDUCATION</td>\n",
       "    </tr>\n",
       "    <tr>\n",
       "      <th>111597</th>\n",
       "      <td>\"So I guess you just deny that there are any b...</td>\n",
       "      <td>EDUCATION</td>\n",
       "    </tr>\n",
       "    <tr>\n",
       "      <th>56988</th>\n",
       "      <td>These steps do take work.  Effort.  From you b...</td>\n",
       "      <td>EDUCATION</td>\n",
       "    </tr>\n",
       "    <tr>\n",
       "      <th>183</th>\n",
       "      <td>When Minneapolis teachers settled a 14-day str...</td>\n",
       "      <td>EDUCATION</td>\n",
       "    </tr>\n",
       "    <tr>\n",
       "      <th>97119</th>\n",
       "      <td>Teachers are important and have the extreme ab...</td>\n",
       "      <td>EDUCATION</td>\n",
       "    </tr>\n",
       "    <tr>\n",
       "      <th>110435</th>\n",
       "      <td>Both national teachers' unions have recently g...</td>\n",
       "      <td>EDUCATION</td>\n",
       "    </tr>\n",
       "    <tr>\n",
       "      <th>23969</th>\n",
       "      <td>We are missing out on the full potential of al...</td>\n",
       "      <td>EDUCATION</td>\n",
       "    </tr>\n",
       "    <tr>\n",
       "      <th>94279</th>\n",
       "      <td>Last week's Curios covered why we forget thing...</td>\n",
       "      <td>EDUCATION</td>\n",
       "    </tr>\n",
       "    <tr>\n",
       "      <th>100593</th>\n",
       "      <td>Winston Churchill once defended democracy by c...</td>\n",
       "      <td>EDUCATION</td>\n",
       "    </tr>\n",
       "    <tr>\n",
       "      <th>96194</th>\n",
       "      <td>HackingFutbol was a great example of what can ...</td>\n",
       "      <td>EDUCATION</td>\n",
       "    </tr>\n",
       "    <tr>\n",
       "      <th>102432</th>\n",
       "      <td>How did they do it? How did an island nation o...</td>\n",
       "      <td>EDUCATION</td>\n",
       "    </tr>\n",
       "    <tr>\n",
       "      <th>30035</th>\n",
       "      <td>As I’ve written, attacks on academia are bread...</td>\n",
       "      <td>EDUCATION</td>\n",
       "    </tr>\n",
       "    <tr>\n",
       "      <th>35609</th>\n",
       "      <td>The Trump administration hasn’t been shy about...</td>\n",
       "      <td>EDUCATION</td>\n",
       "    </tr>\n",
       "    <tr>\n",
       "      <th>100304</th>\n",
       "      <td>Reading is their sanctuary, their Holy of Holi...</td>\n",
       "      <td>EDUCATION</td>\n",
       "    </tr>\n",
       "    <tr>\n",
       "      <th>106713</th>\n",
       "      <td>A simple way for teachers to bring mindfulness...</td>\n",
       "      <td>EDUCATION</td>\n",
       "    </tr>\n",
       "    <tr>\n",
       "      <th>37148</th>\n",
       "      <td>We already know what it looks like, and it doe...</td>\n",
       "      <td>EDUCATION</td>\n",
       "    </tr>\n",
       "    <tr>\n",
       "      <th>61207</th>\n",
       "      <td>Mr. MacNeil has taken steps in the past to pre...</td>\n",
       "      <td>EDUCATION</td>\n",
       "    </tr>\n",
       "    <tr>\n",
       "      <th>38168</th>\n",
       "      <td>You can use this handy field guide to determin...</td>\n",
       "      <td>EDUCATION</td>\n",
       "    </tr>\n",
       "    <tr>\n",
       "      <th>63596</th>\n",
       "      <td>Over 155 million Americans play video games, a...</td>\n",
       "      <td>EDUCATION</td>\n",
       "    </tr>\n",
       "  </tbody>\n",
       "</table>\n",
       "</div>"
      ],
      "text/plain": [
       "                                              description      label\n",
       "80421   I will be glad to see NCLB left behind and RTT...  EDUCATION\n",
       "98392   Talent is fueled by a natural curiosity and lo...  EDUCATION\n",
       "110303  There should have been a conversation about wh...  EDUCATION\n",
       "25125   The mandated curriculum, we decided, would nev...  EDUCATION\n",
       "107527  This new way of looking at ELL students, as un...  EDUCATION\n",
       "94365   High school exchanges participants make a prof...  EDUCATION\n",
       "111090  If you do not object to another remake of ET w...  EDUCATION\n",
       "111597  \"So I guess you just deny that there are any b...  EDUCATION\n",
       "56988   These steps do take work.  Effort.  From you b...  EDUCATION\n",
       "183     When Minneapolis teachers settled a 14-day str...  EDUCATION\n",
       "97119   Teachers are important and have the extreme ab...  EDUCATION\n",
       "110435  Both national teachers' unions have recently g...  EDUCATION\n",
       "23969   We are missing out on the full potential of al...  EDUCATION\n",
       "94279   Last week's Curios covered why we forget thing...  EDUCATION\n",
       "100593  Winston Churchill once defended democracy by c...  EDUCATION\n",
       "96194   HackingFutbol was a great example of what can ...  EDUCATION\n",
       "102432  How did they do it? How did an island nation o...  EDUCATION\n",
       "30035   As I’ve written, attacks on academia are bread...  EDUCATION\n",
       "35609   The Trump administration hasn’t been shy about...  EDUCATION\n",
       "100304  Reading is their sanctuary, their Holy of Holi...  EDUCATION\n",
       "106713  A simple way for teachers to bring mindfulness...  EDUCATION\n",
       "37148   We already know what it looks like, and it doe...  EDUCATION\n",
       "61207   Mr. MacNeil has taken steps in the past to pre...  EDUCATION\n",
       "38168   You can use this handy field guide to determin...  EDUCATION\n",
       "63596   Over 155 million Americans play video games, a...  EDUCATION"
      ]
     },
     "execution_count": 20,
     "metadata": {},
     "output_type": "execute_result"
    }
   ],
   "source": [
    "new_df[new_df['label'] == 'EDUCATION'].sample(25)"
   ]
  },
  {
   "cell_type": "code",
   "execution_count": 21,
   "id": "ada1d44d",
   "metadata": {},
   "outputs": [],
   "source": [
    "# new_df.sample(50)"
   ]
  },
  {
   "cell_type": "code",
   "execution_count": 22,
   "id": "f92826a5",
   "metadata": {},
   "outputs": [
    {
     "data": {
      "text/plain": [
       "POLITICS          32441\n",
       "WELLNESS          17943\n",
       "ENTERTAINMENT     14774\n",
       "STYLE & BEAUTY     9802\n",
       "TRAVEL             9421\n",
       "PARENTING          8790\n",
       "FOOD & DRINK       6331\n",
       "QUEER VOICES       5603\n",
       "HEALTHY LIVING     5265\n",
       "BUSINESS           5132\n",
       "COMEDY             4642\n",
       "SPORTS             4414\n",
       "HOME & LIVING      4317\n",
       "BLACK VOICES       4177\n",
       "THE WORLDPOST      3664\n",
       "WEDDINGS           3653\n",
       "PARENTS            3556\n",
       "DIVORCE            3426\n",
       "WORLD NEWS         3297\n",
       "WOMEN              3184\n",
       "IMPACT             3086\n",
       "CRIME              2832\n",
       "MEDIA              2404\n",
       "WEIRD NEWS         2316\n",
       "TECH               2103\n",
       "GREEN              2046\n",
       "TASTE              1940\n",
       "RELIGION           1879\n",
       "SCIENCE            1803\n",
       "MONEY              1755\n",
       "STYLE              1567\n",
       "ENVIRONMENT        1442\n",
       "U.S. NEWS          1377\n",
       "ARTS & CULTURE     1339\n",
       "WORLDPOST          1242\n",
       "CULTURE & ARTS     1063\n",
       "FIFTY              1042\n",
       "GOOD NEWS          1039\n",
       "LATINO VOICES      1022\n",
       "COLLEGE             921\n",
       "EDUCATION           902\n",
       "ARTS                863\n",
       "Name: label, dtype: int64"
      ]
     },
     "execution_count": 22,
     "metadata": {},
     "output_type": "execute_result"
    }
   ],
   "source": [
    "new_df['label'].value_counts()"
   ]
  },
  {
   "cell_type": "code",
   "execution_count": null,
   "id": "4dd2f119",
   "metadata": {},
   "outputs": [],
   "source": []
  },
  {
   "cell_type": "code",
   "execution_count": 75,
   "id": "d325f0da",
   "metadata": {},
   "outputs": [
    {
     "data": {
      "text/html": [
       "<div>\n",
       "<style scoped>\n",
       "    .dataframe tbody tr th:only-of-type {\n",
       "        vertical-align: middle;\n",
       "    }\n",
       "\n",
       "    .dataframe tbody tr th {\n",
       "        vertical-align: top;\n",
       "    }\n",
       "\n",
       "    .dataframe thead th {\n",
       "        text-align: right;\n",
       "    }\n",
       "</style>\n",
       "<table border=\"1\" class=\"dataframe\">\n",
       "  <thead>\n",
       "    <tr style=\"text-align: right;\">\n",
       "      <th></th>\n",
       "      <th>description</th>\n",
       "      <th>label</th>\n",
       "    </tr>\n",
       "  </thead>\n",
       "  <tbody>\n",
       "    <tr>\n",
       "      <th>177263</th>\n",
       "      <td>Now that Secretary of Commerce John Bryson has...</td>\n",
       "      <td>WELLNESS</td>\n",
       "    </tr>\n",
       "    <tr>\n",
       "      <th>140462</th>\n",
       "      <td>C. diff (a bacteria that causes severe diarrhe...</td>\n",
       "      <td>WELLNESS</td>\n",
       "    </tr>\n",
       "    <tr>\n",
       "      <th>154602</th>\n",
       "      <td>Even if your daily diet contains healthy fare ...</td>\n",
       "      <td>WELLNESS</td>\n",
       "    </tr>\n",
       "    <tr>\n",
       "      <th>114684</th>\n",
       "      <td>I'm out of the darkest part of the woods, sure...</td>\n",
       "      <td>WELLNESS</td>\n",
       "    </tr>\n",
       "    <tr>\n",
       "      <th>127360</th>\n",
       "      <td>Gratitude causes us to pause and give value fo...</td>\n",
       "      <td>WELLNESS</td>\n",
       "    </tr>\n",
       "    <tr>\n",
       "      <th>184286</th>\n",
       "      <td>Expanding love gets down to appreciating that ...</td>\n",
       "      <td>WELLNESS</td>\n",
       "    </tr>\n",
       "    <tr>\n",
       "      <th>162284</th>\n",
       "      <td>Too often, we jump to take extreme measures to...</td>\n",
       "      <td>WELLNESS</td>\n",
       "    </tr>\n",
       "    <tr>\n",
       "      <th>186233</th>\n",
       "      <td>While undergoing the brain scans, the study pa...</td>\n",
       "      <td>WELLNESS</td>\n",
       "    </tr>\n",
       "    <tr>\n",
       "      <th>184488</th>\n",
       "      <td>This, according to the researchers, represents...</td>\n",
       "      <td>WELLNESS</td>\n",
       "    </tr>\n",
       "    <tr>\n",
       "      <th>123474</th>\n",
       "      <td>\"Before you pick up another cigarette, know th...</td>\n",
       "      <td>WELLNESS</td>\n",
       "    </tr>\n",
       "  </tbody>\n",
       "</table>\n",
       "</div>"
      ],
      "text/plain": [
       "                                              description     label\n",
       "177263  Now that Secretary of Commerce John Bryson has...  WELLNESS\n",
       "140462  C. diff (a bacteria that causes severe diarrhe...  WELLNESS\n",
       "154602  Even if your daily diet contains healthy fare ...  WELLNESS\n",
       "114684  I'm out of the darkest part of the woods, sure...  WELLNESS\n",
       "127360  Gratitude causes us to pause and give value fo...  WELLNESS\n",
       "184286  Expanding love gets down to appreciating that ...  WELLNESS\n",
       "162284  Too often, we jump to take extreme measures to...  WELLNESS\n",
       "186233  While undergoing the brain scans, the study pa...  WELLNESS\n",
       "184488  This, according to the researchers, represents...  WELLNESS\n",
       "123474  \"Before you pick up another cigarette, know th...  WELLNESS"
      ]
     },
     "execution_count": 75,
     "metadata": {},
     "output_type": "execute_result"
    }
   ],
   "source": [
    "new_df[new_df['label'] == 'WELLNESS'].sample(10)"
   ]
  },
  {
   "cell_type": "code",
   "execution_count": 74,
   "id": "afaaaa2d",
   "metadata": {},
   "outputs": [
    {
     "data": {
      "text/plain": [
       "\"Being overwhelmed is not a fact -- it's a state of consciousness that limits your freedom and happiness. It requires a shift in perspective. Bring yourself back to the present moment.  Remember that you have a choice about the way you want to feel.\""
      ]
     },
     "execution_count": 74,
     "metadata": {},
     "output_type": "execute_result"
    }
   ],
   "source": [
    "new_df.iloc[103335].description"
   ]
  },
  {
   "cell_type": "code",
   "execution_count": null,
   "id": "ab93df3d",
   "metadata": {},
   "outputs": [],
   "source": []
  },
  {
   "cell_type": "code",
   "execution_count": 70,
   "id": "94273436",
   "metadata": {},
   "outputs": [],
   "source": [
    "# keeping only those categories which will be relevant and which contains a good amount of data \n",
    "# to be trained so that model does not become aggressive for a particular category\n",
    "\n",
    "categories_to_retain = [\n",
    "    'POLITICS', 'WELLNESS', 'ENTERTAINMENT', 'STYLE & BEAUTY', 'FOOD & DRINK', 'TASTE', 'HEALTHY LIVING', 'BUSINESS', \n",
    "    'MONEY', 'CRIME', 'WORLD NEWS', 'THE WORLDPOST', 'SCIENCE', 'TECH', 'ENVIRONMENT', 'GREEN', 'SPORTS'\n",
    "]"
   ]
  },
  {
   "cell_type": "code",
   "execution_count": 83,
   "id": "15adcdda",
   "metadata": {},
   "outputs": [],
   "source": [
    "final_df = new_df[new_df['label'].isin(categories_to_retain)]"
   ]
  },
  {
   "cell_type": "code",
   "execution_count": 72,
   "id": "175abee6",
   "metadata": {},
   "outputs": [],
   "source": [
    "# final_df"
   ]
  },
  {
   "cell_type": "code",
   "execution_count": 84,
   "id": "d7aa0fe0",
   "metadata": {},
   "outputs": [],
   "source": [
    "# mapping categories into smallcase letters and also merging few categories which are aligned close to each other\n",
    "mapping_dict = {\n",
    "    'POLITICS': 'politics', \n",
    "    'WELLNESS': 'health', \n",
    "    'ENTERTAINMENT': 'entertainment', \n",
    "    'STYLE & BEAUTY': 'fashion', \n",
    "    'FOOD & DRINK': 'food_and_beverages', \n",
    "    'TASTE': 'food_and_beverages', \n",
    "    'HEALTHY LIVING': 'health', \n",
    "    'BUSINESS': 'business', \n",
    "    'MONEY': 'business', \n",
    "    'CRIME': 'crime', \n",
    "    'WORLD NEWS': 'world_news', \n",
    "    'THE WORLDPOST': 'world_news', \n",
    "    'SCIENCE': 'science_and_technology', \n",
    "    'TECH':  'science_and_technology', \n",
    "    'ENVIRONMENT': 'enviornment', \n",
    "    'GREEN': 'enviornment',\n",
    "    'SPORTS': 'sports'\n",
    "}"
   ]
  },
  {
   "cell_type": "code",
   "execution_count": 85,
   "id": "06c41dce",
   "metadata": {},
   "outputs": [
    {
     "name": "stderr",
     "output_type": "stream",
     "text": [
      "C:\\Users\\Darpan Chanana\\AppData\\Local\\Temp/ipykernel_18756/2268595642.py:1: SettingWithCopyWarning: \n",
      "A value is trying to be set on a copy of a slice from a DataFrame.\n",
      "Try using .loc[row_indexer,col_indexer] = value instead\n",
      "\n",
      "See the caveats in the documentation: https://pandas.pydata.org/pandas-docs/stable/user_guide/indexing.html#returning-a-view-versus-a-copy\n",
      "  final_df['label'] = final_df['label'].map(mapping_dict)\n"
     ]
    }
   ],
   "source": [
    "final_df['label'] = final_df['label'].map(mapping_dict)"
   ]
  },
  {
   "cell_type": "code",
   "execution_count": 86,
   "id": "48213544",
   "metadata": {},
   "outputs": [],
   "source": [
    "# final_df"
   ]
  },
  {
   "cell_type": "code",
   "execution_count": 87,
   "id": "0cde7347",
   "metadata": {},
   "outputs": [
    {
     "data": {
      "text/plain": [
       "description    0\n",
       "label          0\n",
       "dtype: int64"
      ]
     },
     "execution_count": 87,
     "metadata": {},
     "output_type": "execute_result"
    }
   ],
   "source": [
    "final_df.isna().sum()"
   ]
  },
  {
   "cell_type": "code",
   "execution_count": 88,
   "id": "3e965890",
   "metadata": {},
   "outputs": [
    {
     "data": {
      "text/plain": [
       "politics                  32441\n",
       "health                    23208\n",
       "entertainment             14774\n",
       "fashion                    9802\n",
       "food_and_beverages         8271\n",
       "world_news                 6961\n",
       "business                   6887\n",
       "sports                     4414\n",
       "science_and_technology     3906\n",
       "enviornment                3488\n",
       "crime                      2832\n",
       "Name: label, dtype: int64"
      ]
     },
     "execution_count": 88,
     "metadata": {},
     "output_type": "execute_result"
    }
   ],
   "source": [
    "final_df['label'].value_counts()"
   ]
  },
  {
   "cell_type": "code",
   "execution_count": 89,
   "id": "c5a5d50a",
   "metadata": {},
   "outputs": [
    {
     "data": {
      "text/plain": [
       "['business',\n",
       " 'crime',\n",
       " 'entertainment',\n",
       " 'enviornment',\n",
       " 'fashion',\n",
       " 'food_and_beverages',\n",
       " 'health',\n",
       " 'politics',\n",
       " 'science_and_technology',\n",
       " 'sports',\n",
       " 'world_news']"
      ]
     },
     "execution_count": 89,
     "metadata": {},
     "output_type": "execute_result"
    }
   ],
   "source": [
    "sorted(final_df['label'].unique())"
   ]
  },
  {
   "cell_type": "code",
   "execution_count": 90,
   "id": "a7a1c429",
   "metadata": {},
   "outputs": [
    {
     "data": {
      "text/plain": [
       "116984"
      ]
     },
     "execution_count": 90,
     "metadata": {},
     "output_type": "execute_result"
    }
   ],
   "source": [
    "len(final_df)"
   ]
  },
  {
   "cell_type": "code",
   "execution_count": 91,
   "id": "1fc4b465",
   "metadata": {},
   "outputs": [],
   "source": [
    "final_df.to_csv('final_data_for_training.csv', index=False)"
   ]
  },
  {
   "cell_type": "code",
   "execution_count": null,
   "id": "500657bb",
   "metadata": {},
   "outputs": [],
   "source": []
  }
 ],
 "metadata": {
  "kernelspec": {
   "display_name": "Python 3 (ipykernel)",
   "language": "python",
   "name": "python3"
  },
  "language_info": {
   "codemirror_mode": {
    "name": "ipython",
    "version": 3
   },
   "file_extension": ".py",
   "mimetype": "text/x-python",
   "name": "python",
   "nbconvert_exporter": "python",
   "pygments_lexer": "ipython3",
   "version": "3.10.0"
  }
 },
 "nbformat": 4,
 "nbformat_minor": 5
}
