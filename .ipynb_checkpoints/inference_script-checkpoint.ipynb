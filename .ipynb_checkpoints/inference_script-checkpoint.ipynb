{
 "cells": [
  {
   "cell_type": "code",
   "execution_count": 1,
   "id": "cdb1c0b4",
   "metadata": {},
   "outputs": [],
   "source": [
    "import pickle\n",
    "import tensorflow as tf"
   ]
  },
  {
   "cell_type": "code",
   "execution_count": 2,
   "id": "2b7fd87b",
   "metadata": {},
   "outputs": [],
   "source": [
    "# load the  model\n",
    "model = tf.keras.models.load_model('smart_news_crafter_model_softtmax_12_epochs.h5')"
   ]
  },
  {
   "cell_type": "code",
   "execution_count": 3,
   "id": "eaf467dc",
   "metadata": {},
   "outputs": [],
   "source": [
    "# load the tokenizer for input text\n",
    "\n",
    "with open('trained_tokeinzer.pickle', 'rb') as pkl_file:\n",
    "    tokenizer = pickle.load(pkl_file)"
   ]
  },
  {
   "cell_type": "code",
   "execution_count": 4,
   "id": "25ece8aa",
   "metadata": {},
   "outputs": [
    {
     "data": {
      "text/plain": [
       "<keras.preprocessing.text.Tokenizer at 0x1ad43685f00>"
      ]
     },
     "execution_count": 4,
     "metadata": {},
     "output_type": "execute_result"
    }
   ],
   "source": [
    "tokenizer"
   ]
  },
  {
   "cell_type": "code",
   "execution_count": null,
   "id": "3481e1af",
   "metadata": {},
   "outputs": [],
   "source": []
  },
  {
   "cell_type": "code",
   "execution_count": 5,
   "id": "2e94ad60",
   "metadata": {},
   "outputs": [],
   "source": [
    "# load the encoder for getting category names\n",
    "\n",
    "with open('encoder.pickle', 'rb') as pkl_file:\n",
    "    encoder = pickle.load(pkl_file)"
   ]
  },
  {
   "cell_type": "code",
   "execution_count": 6,
   "id": "c8c38a81",
   "metadata": {},
   "outputs": [
    {
     "data": {
      "text/plain": [
       "LabelEncoder()"
      ]
     },
     "execution_count": 6,
     "metadata": {},
     "output_type": "execute_result"
    }
   ],
   "source": [
    "encoder"
   ]
  },
  {
   "cell_type": "code",
   "execution_count": 24,
   "id": "9f5a75ef",
   "metadata": {},
   "outputs": [],
   "source": [
    "categories = encoder.classes_"
   ]
  },
  {
   "cell_type": "code",
   "execution_count": 25,
   "id": "84d59058",
   "metadata": {},
   "outputs": [
    {
     "data": {
      "text/plain": [
       "array(['business', 'crime', 'entertainment', 'enviornment', 'fashion',\n",
       "       'food_and_beverages', 'health', 'politics',\n",
       "       'science_and_technology', 'sports', 'world_news'], dtype='<U22')"
      ]
     },
     "execution_count": 25,
     "metadata": {},
     "output_type": "execute_result"
    }
   ],
   "source": [
    "categories"
   ]
  },
  {
   "cell_type": "code",
   "execution_count": null,
   "id": "131cfbe9",
   "metadata": {},
   "outputs": [],
   "source": []
  },
  {
   "cell_type": "code",
   "execution_count": 31,
   "id": "801ad17e",
   "metadata": {},
   "outputs": [],
   "source": [
    "SEQUENCE_LENGTH = 100\n",
    "trunc_type='post'\n",
    "padding_type='post'"
   ]
  },
  {
   "cell_type": "code",
   "execution_count": 44,
   "id": "d32a1292",
   "metadata": {},
   "outputs": [
    {
     "name": "stdout",
     "output_type": "stream",
     "text": [
      "FIFA organisation is under pressure \n",
      "2/2 [==============================] - 1s 222ms/step\n"
     ]
    },
    {
     "data": {
      "text/plain": [
       "'politics'"
      ]
     },
     "execution_count": 44,
     "metadata": {},
     "output_type": "execute_result"
    }
   ],
   "source": [
    "text = input('')\n",
    "\n",
    "text_seq = tokenizer.texts_to_sequences(list(text))\n",
    "text_pad_seq = tf.keras.preprocessing.sequence.pad_sequences(text_seq, maxlen=SEQUENCE_LENGTH, padding=padding_type, truncating=trunc_type)\n",
    "text_tensor = tf.convert_to_tensor(text_pad_seq)\n",
    "\n",
    "output_prob = model.predict(text_tensor)\n",
    "categories[tf.argmax(output_prob, axis=-1)[0]]"
   ]
  },
  {
   "cell_type": "code",
   "execution_count": null,
   "id": "7c5379b0",
   "metadata": {},
   "outputs": [],
   "source": []
  },
  {
   "cell_type": "code",
   "execution_count": null,
   "id": "4b1a9767",
   "metadata": {},
   "outputs": [],
   "source": []
  }
 ],
 "metadata": {
  "kernelspec": {
   "display_name": "Python 3 (ipykernel)",
   "language": "python",
   "name": "python3"
  },
  "language_info": {
   "codemirror_mode": {
    "name": "ipython",
    "version": 3
   },
   "file_extension": ".py",
   "mimetype": "text/x-python",
   "name": "python",
   "nbconvert_exporter": "python",
   "pygments_lexer": "ipython3",
   "version": "3.10.0"
  }
 },
 "nbformat": 4,
 "nbformat_minor": 5
}
