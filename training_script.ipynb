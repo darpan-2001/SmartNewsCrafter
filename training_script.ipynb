{
 "cells": [
  {
   "cell_type": "code",
   "execution_count": 1,
   "id": "4e747d81",
   "metadata": {},
   "outputs": [],
   "source": [
    "import pandas as pd\n",
    "import numpy as np\n",
    "from tqdm import tqdm\n",
    "import tensorflow as tf\n",
    "import re\n",
    "from sklearn.preprocessing import LabelEncoder\n",
    "import pickle"
   ]
  },
  {
   "cell_type": "code",
   "execution_count": 2,
   "id": "beb5ddff",
   "metadata": {},
   "outputs": [],
   "source": [
    "df = pd.read_csv('final_data_for_training.csv')"
   ]
  },
  {
   "cell_type": "code",
   "execution_count": 3,
   "id": "ddfb6b03",
   "metadata": {},
   "outputs": [
    {
     "data": {
      "text/html": [
       "<div>\n",
       "<style scoped>\n",
       "    .dataframe tbody tr th:only-of-type {\n",
       "        vertical-align: middle;\n",
       "    }\n",
       "\n",
       "    .dataframe tbody tr th {\n",
       "        vertical-align: top;\n",
       "    }\n",
       "\n",
       "    .dataframe thead th {\n",
       "        text-align: right;\n",
       "    }\n",
       "</style>\n",
       "<table border=\"1\" class=\"dataframe\">\n",
       "  <thead>\n",
       "    <tr style=\"text-align: right;\">\n",
       "      <th></th>\n",
       "      <th>description</th>\n",
       "      <th>label</th>\n",
       "    </tr>\n",
       "  </thead>\n",
       "  <tbody>\n",
       "    <tr>\n",
       "      <th>0</th>\n",
       "      <td>\"Until you have a dog you don't understand wha...</td>\n",
       "      <td>entertainment</td>\n",
       "    </tr>\n",
       "    <tr>\n",
       "      <th>1</th>\n",
       "      <td>More than half a million people remained witho...</td>\n",
       "      <td>world_news</td>\n",
       "    </tr>\n",
       "    <tr>\n",
       "      <th>2</th>\n",
       "      <td>White House officials say the crux of the pres...</td>\n",
       "      <td>world_news</td>\n",
       "    </tr>\n",
       "    <tr>\n",
       "      <th>3</th>\n",
       "      <td>FIFA has come under pressure from several Euro...</td>\n",
       "      <td>world_news</td>\n",
       "    </tr>\n",
       "    <tr>\n",
       "      <th>4</th>\n",
       "      <td>The incident underscores a growing wave of pro...</td>\n",
       "      <td>world_news</td>\n",
       "    </tr>\n",
       "  </tbody>\n",
       "</table>\n",
       "</div>"
      ],
      "text/plain": [
       "                                         description          label\n",
       "0  \"Until you have a dog you don't understand wha...  entertainment\n",
       "1  More than half a million people remained witho...     world_news\n",
       "2  White House officials say the crux of the pres...     world_news\n",
       "3  FIFA has come under pressure from several Euro...     world_news\n",
       "4  The incident underscores a growing wave of pro...     world_news"
      ]
     },
     "execution_count": 3,
     "metadata": {},
     "output_type": "execute_result"
    }
   ],
   "source": [
    "df.head()"
   ]
  },
  {
   "cell_type": "code",
   "execution_count": 4,
   "id": "2f936afd",
   "metadata": {},
   "outputs": [
    {
     "data": {
      "text/plain": [
       "politics                  32441\n",
       "health                    23208\n",
       "entertainment             19416\n",
       "fashion                   11369\n",
       "food_and_beverages         8271\n",
       "world_news                 6961\n",
       "business                   6887\n",
       "sports                     4414\n",
       "science_and_technology     3906\n",
       "enviornment                3488\n",
       "crime                      2832\n",
       "Name: label, dtype: int64"
      ]
     },
     "execution_count": 4,
     "metadata": {},
     "output_type": "execute_result"
    }
   ],
   "source": [
    "df['label'].value_counts()"
   ]
  },
  {
   "cell_type": "code",
   "execution_count": 5,
   "id": "068dbc68",
   "metadata": {},
   "outputs": [
    {
     "data": {
      "text/plain": [
       "['business',\n",
       " 'crime',\n",
       " 'entertainment',\n",
       " 'enviornment',\n",
       " 'fashion',\n",
       " 'food_and_beverages',\n",
       " 'health',\n",
       " 'politics',\n",
       " 'science_and_technology',\n",
       " 'sports',\n",
       " 'world_news']"
      ]
     },
     "execution_count": 5,
     "metadata": {},
     "output_type": "execute_result"
    }
   ],
   "source": [
    "sorted(df['label'].unique())"
   ]
  },
  {
   "cell_type": "code",
   "execution_count": 6,
   "id": "6476b664",
   "metadata": {},
   "outputs": [
    {
     "data": {
      "text/plain": [
       "11"
      ]
     },
     "execution_count": 6,
     "metadata": {},
     "output_type": "execute_result"
    }
   ],
   "source": [
    "len(sorted(df['label'].unique()))"
   ]
  },
  {
   "cell_type": "code",
   "execution_count": null,
   "id": "e69b38ae",
   "metadata": {},
   "outputs": [],
   "source": []
  },
  {
   "cell_type": "code",
   "execution_count": 7,
   "id": "af0288d0",
   "metadata": {},
   "outputs": [],
   "source": [
    "x_train = list(df['description'])\n",
    "y_train = list(df['label'])"
   ]
  },
  {
   "cell_type": "code",
   "execution_count": null,
   "id": "a1626cf7",
   "metadata": {},
   "outputs": [],
   "source": []
  },
  {
   "cell_type": "code",
   "execution_count": 8,
   "id": "63e36ba6",
   "metadata": {},
   "outputs": [],
   "source": [
    "def standardization(input_text):\n",
    "    cleaned_text = re.sub(r'[^a-zA-Z\\s]', '', input_text)\n",
    "    output = cleaned_text.lower()\n",
    "    return output"
   ]
  },
  {
   "cell_type": "code",
   "execution_count": 9,
   "id": "0057e8ba",
   "metadata": {},
   "outputs": [
    {
     "name": "stderr",
     "output_type": "stream",
     "text": [
      "100%|██████████████████████████████████████████████████████████████████████| 123193/123193 [00:00<00:00, 210537.32it/s]\n"
     ]
    }
   ],
   "source": [
    "training_text = []\n",
    "\n",
    "for sent in tqdm(x_train):\n",
    "    new_sent = standardization(sent)\n",
    "    training_text.append(new_sent)"
   ]
  },
  {
   "cell_type": "code",
   "execution_count": 10,
   "id": "06156b79",
   "metadata": {},
   "outputs": [],
   "source": [
    "# training_text"
   ]
  },
  {
   "cell_type": "code",
   "execution_count": null,
   "id": "17aedcee",
   "metadata": {},
   "outputs": [],
   "source": []
  },
  {
   "cell_type": "code",
   "execution_count": 11,
   "id": "33e9c142",
   "metadata": {},
   "outputs": [],
   "source": [
    "VOCAB_SIZE = 10000\n",
    "SEQUENCE_LENGTH = 100\n",
    "\n",
    "trunc_type='post'\n",
    "padding_type='post'\n",
    "oov_tok = \"<OOV>\""
   ]
  },
  {
   "cell_type": "code",
   "execution_count": 12,
   "id": "beb5342d",
   "metadata": {},
   "outputs": [],
   "source": [
    "# tokenize input text\n",
    "tokenizer = tf.keras.preprocessing.text.Tokenizer(num_words=VOCAB_SIZE, oov_token=oov_tok)"
   ]
  },
  {
   "cell_type": "code",
   "execution_count": 13,
   "id": "6e0169d5",
   "metadata": {},
   "outputs": [],
   "source": [
    "tokenizer.fit_on_texts(training_text)"
   ]
  },
  {
   "cell_type": "code",
   "execution_count": 14,
   "id": "027f6418",
   "metadata": {},
   "outputs": [],
   "source": [
    "# tokenizer.word_index"
   ]
  },
  {
   "cell_type": "code",
   "execution_count": 15,
   "id": "21e13345",
   "metadata": {},
   "outputs": [],
   "source": [
    "# saving tokenizer for taking inferences in future\n",
    "\n",
    "with open('trained_tokeinzer.pickle', 'wb') as pkl_file:\n",
    "    pickle.dump(tokenizer, pkl_file)"
   ]
  },
  {
   "cell_type": "code",
   "execution_count": null,
   "id": "e06d2b4f",
   "metadata": {},
   "outputs": [],
   "source": []
  },
  {
   "cell_type": "code",
   "execution_count": 16,
   "id": "2f91a7c9",
   "metadata": {},
   "outputs": [],
   "source": [
    "x_train_seq = tokenizer.texts_to_sequences(training_text)"
   ]
  },
  {
   "cell_type": "code",
   "execution_count": 17,
   "id": "ca4275cd",
   "metadata": {},
   "outputs": [
    {
     "data": {
      "text/plain": [
       "list"
      ]
     },
     "execution_count": 17,
     "metadata": {},
     "output_type": "execute_result"
    }
   ],
   "source": [
    "# x_train_seq\n",
    "type(x_train_seq)"
   ]
  },
  {
   "cell_type": "code",
   "execution_count": 18,
   "id": "cc094d7d",
   "metadata": {},
   "outputs": [],
   "source": [
    "x_train_padded_seq = tf.keras.preprocessing.sequence.pad_sequences(x_train_seq, maxlen=SEQUENCE_LENGTH, padding=padding_type, truncating=trunc_type)"
   ]
  },
  {
   "cell_type": "code",
   "execution_count": 19,
   "id": "5c81999c",
   "metadata": {},
   "outputs": [
    {
     "data": {
      "text/plain": [
       "numpy.ndarray"
      ]
     },
     "execution_count": 19,
     "metadata": {},
     "output_type": "execute_result"
    }
   ],
   "source": [
    "# x_train_padded_seq\n",
    "type(x_train_padded_seq)"
   ]
  },
  {
   "cell_type": "code",
   "execution_count": 20,
   "id": "6afd6afd",
   "metadata": {},
   "outputs": [
    {
     "data": {
      "text/plain": [
       "(123193, 100)"
      ]
     },
     "execution_count": 20,
     "metadata": {},
     "output_type": "execute_result"
    }
   ],
   "source": [
    "x_train_padded_seq.shape"
   ]
  },
  {
   "cell_type": "code",
   "execution_count": 21,
   "id": "9e633319",
   "metadata": {},
   "outputs": [],
   "source": [
    "# encoding labels into numbers\n",
    "encoder = LabelEncoder()"
   ]
  },
  {
   "cell_type": "code",
   "execution_count": 22,
   "id": "9076f696",
   "metadata": {},
   "outputs": [],
   "source": [
    "y_train = np.array(y_train)"
   ]
  },
  {
   "cell_type": "code",
   "execution_count": 23,
   "id": "cfe236b2",
   "metadata": {},
   "outputs": [
    {
     "data": {
      "text/plain": [
       "LabelEncoder()"
      ]
     },
     "execution_count": 23,
     "metadata": {},
     "output_type": "execute_result"
    }
   ],
   "source": [
    "encoder.fit(y_train)"
   ]
  },
  {
   "cell_type": "code",
   "execution_count": 24,
   "id": "ab286491",
   "metadata": {},
   "outputs": [
    {
     "data": {
      "text/plain": [
       "sklearn.preprocessing._label.LabelEncoder"
      ]
     },
     "execution_count": 24,
     "metadata": {},
     "output_type": "execute_result"
    }
   ],
   "source": [
    "type(encoder)"
   ]
  },
  {
   "cell_type": "code",
   "execution_count": 25,
   "id": "9021f767",
   "metadata": {},
   "outputs": [
    {
     "data": {
      "text/plain": [
       "array(['business', 'crime', 'entertainment', 'enviornment', 'fashion',\n",
       "       'food_and_beverages', 'health', 'politics',\n",
       "       'science_and_technology', 'sports', 'world_news'], dtype='<U22')"
      ]
     },
     "execution_count": 25,
     "metadata": {},
     "output_type": "execute_result"
    }
   ],
   "source": [
    "encoder.classes_"
   ]
  },
  {
   "cell_type": "code",
   "execution_count": 26,
   "id": "8f9cb862",
   "metadata": {},
   "outputs": [],
   "source": [
    "# saving encoder for taking  inferences in future\n",
    "\n",
    "with open('encoder.pickle', 'wb') as pkl_file:\n",
    "    pickle.dump(encoder, pkl_file)"
   ]
  },
  {
   "cell_type": "code",
   "execution_count": null,
   "id": "30199acc",
   "metadata": {},
   "outputs": [],
   "source": []
  },
  {
   "cell_type": "code",
   "execution_count": 27,
   "id": "ecbef63d",
   "metadata": {},
   "outputs": [],
   "source": [
    "y_encoded = encoder.transform(y_train)"
   ]
  },
  {
   "cell_type": "code",
   "execution_count": 38,
   "id": "29327703",
   "metadata": {},
   "outputs": [],
   "source": [
    "# y_encoded"
   ]
  },
  {
   "cell_type": "code",
   "execution_count": 39,
   "id": "f749a205",
   "metadata": {},
   "outputs": [],
   "source": [
    "# y_train_encoded = tf.keras.utils.to_categorical(y_encoded)"
   ]
  },
  {
   "cell_type": "code",
   "execution_count": 40,
   "id": "2efd8502",
   "metadata": {},
   "outputs": [],
   "source": [
    "# y_train_encoded"
   ]
  },
  {
   "cell_type": "code",
   "execution_count": 28,
   "id": "f8babc53",
   "metadata": {},
   "outputs": [],
   "source": [
    "y_encoded_tensor = tf.convert_to_tensor(y_encoded)"
   ]
  },
  {
   "cell_type": "code",
   "execution_count": 29,
   "id": "8029b5c2",
   "metadata": {},
   "outputs": [],
   "source": [
    "x_train_tensor = tf.convert_to_tensor(x_train_padded_seq)"
   ]
  },
  {
   "cell_type": "code",
   "execution_count": null,
   "id": "025ec4e5",
   "metadata": {},
   "outputs": [],
   "source": []
  },
  {
   "cell_type": "code",
   "execution_count": null,
   "id": "2acd34b3",
   "metadata": {},
   "outputs": [],
   "source": []
  },
  {
   "cell_type": "code",
   "execution_count": 30,
   "id": "d3cc6556",
   "metadata": {},
   "outputs": [
    {
     "name": "stdout",
     "output_type": "stream",
     "text": [
      "Model: \"model\"\n",
      "_________________________________________________________________\n",
      " Layer (type)                Output Shape              Param #   \n",
      "=================================================================\n",
      " input_1 (InputLayer)        [(None, 100)]             0         \n",
      "                                                                 \n",
      " embedding (Embedding)       (None, 100, 64)           640000    \n",
      "                                                                 \n",
      " bidirectional (Bidirectiona  (None, 100, 1024)        2363392   \n",
      " l)                                                              \n",
      "                                                                 \n",
      " bidirectional_1 (Bidirectio  (None, 100, 512)         2623488   \n",
      " nal)                                                            \n",
      "                                                                 \n",
      " global_max_pooling1d (Globa  (None, 512)              0         \n",
      " lMaxPooling1D)                                                  \n",
      "                                                                 \n",
      " batch_normalization (BatchN  (None, 512)              2048      \n",
      " ormalization)                                                   \n",
      "                                                                 \n",
      " dense (Dense)               (None, 256)               131328    \n",
      "                                                                 \n",
      " batch_normalization_1 (Batc  (None, 256)              1024      \n",
      " hNormalization)                                                 \n",
      "                                                                 \n",
      " dense_1 (Dense)             (None, 128)               32896     \n",
      "                                                                 \n",
      " dense_2 (Dense)             (None, 11)                1419      \n",
      "                                                                 \n",
      "=================================================================\n",
      "Total params: 5,795,595\n",
      "Trainable params: 5,794,059\n",
      "Non-trainable params: 1,536\n",
      "_________________________________________________________________\n"
     ]
    }
   ],
   "source": [
    "# MODEL ARCHITECTURE\n",
    "EMBEDDING_DIM = 64\n",
    "\n",
    "input_layer = tf.keras.layers.Input(shape=(SEQUENCE_LENGTH,))\n",
    "\n",
    "emb_layer = tf.keras.layers.Embedding(input_dim=VOCAB_SIZE, output_dim=EMBEDDING_DIM)(input_layer)\n",
    "\n",
    "lstm_1 = tf.keras.layers.Bidirectional(tf.keras.layers.LSTM(512, activation='relu', return_sequences=True))(emb_layer)\n",
    "# emb = lstm_1+emb\n",
    "\n",
    "lstm_2 = tf.keras.layers.Bidirectional(tf.keras.layers.LSTM(256, activation='relu', return_sequences=True))(lstm_1)\n",
    "# emb = lstm_2+emb\n",
    "\n",
    "# lstm_3 = tf.keras.layers.Bidirectional(tf.keras.layers.LSTM(256, activation='relu', return_sequences=True))(lstm_2)\n",
    "# emb = lstm_3+emb\n",
    "\n",
    "pooling_layer = tf.keras.layers.GlobalMaxPooling1D()(lstm_2)\n",
    "\n",
    "hidden = tf.keras.layers.BatchNormalization()(pooling_layer)\n",
    "hidden = tf.keras.layers.Dense(256, activation='relu')(hidden)\n",
    "hidden = tf.keras.layers.BatchNormalization()(hidden)\n",
    "hidden = tf.keras.layers.Dense(128, activation='relu')(hidden)\n",
    "\n",
    "\n",
    "output_layer = tf.keras.layers.Dense(11, activation='softmax')(hidden)\n",
    "model = tf.keras.models.Model(inputs=input_layer, outputs=output_layer)\n",
    "model.summary()"
   ]
  },
  {
   "cell_type": "code",
   "execution_count": 31,
   "id": "93ddcc58",
   "metadata": {},
   "outputs": [],
   "source": [
    "model.compile(loss=tf.keras.losses.SparseCategoricalCrossentropy(),\n",
    "             optimizer= tf.keras.optimizers.Adam(),\n",
    "             metrics=['accuracy'])"
   ]
  },
  {
   "cell_type": "code",
   "execution_count": 47,
   "id": "9063e33d",
   "metadata": {},
   "outputs": [
    {
     "name": "stdout",
     "output_type": "stream",
     "text": [
      "Epoch 1/12\n",
      "121/121 [==============================] - 4018s 33s/step - loss: 1.3553 - accuracy: 0.5664\n",
      "Epoch 2/12\n",
      "121/121 [==============================] - 3812s 32s/step - loss: 0.9570 - accuracy: 0.6940\n",
      "Epoch 3/12\n",
      "121/121 [==============================] - 3677s 30s/step - loss: 0.8320 - accuracy: 0.7297\n",
      "Epoch 4/12\n",
      "121/121 [==============================] - 3569s 29s/step - loss: 0.7346 - accuracy: 0.7596\n",
      "Epoch 5/12\n",
      "121/121 [==============================] - 3606s 30s/step - loss: 0.6385 - accuracy: 0.7900\n",
      "Epoch 6/12\n",
      "121/121 [==============================] - 3659s 30s/step - loss: 0.5427 - accuracy: 0.8214\n",
      "Epoch 7/12\n",
      "121/121 [==============================] - 3731s 31s/step - loss: 0.4511 - accuracy: 0.8499\n",
      "Epoch 8/12\n",
      "121/121 [==============================] - 3708s 31s/step - loss: 0.3748 - accuracy: 0.8744\n",
      "Epoch 9/12\n",
      "121/121 [==============================] - 3638s 30s/step - loss: 0.3113 - accuracy: 0.8949\n",
      "Epoch 10/12\n",
      "121/121 [==============================] - 3831s 32s/step - loss: 0.2610 - accuracy: 0.9109\n",
      "Epoch 11/12\n",
      "121/121 [==============================] - 3852s 32s/step - loss: 0.2194 - accuracy: 0.9255\n",
      "Epoch 12/12\n",
      "121/121 [==============================] - 4307s 36s/step - loss: 0.1947 - accuracy: 0.9332\n"
     ]
    }
   ],
   "source": [
    "history = model.fit(x_train_tensor, y_encoded_tensor, epochs=12, batch_size=1024)"
   ]
  },
  {
   "cell_type": "code",
   "execution_count": null,
   "id": "978114bf",
   "metadata": {},
   "outputs": [],
   "source": []
  },
  {
   "cell_type": "code",
   "execution_count": 48,
   "id": "078fc0f2",
   "metadata": {},
   "outputs": [],
   "source": [
    "model.save('smart_news_crafter_model_softtmax_12_epochs.h5')"
   ]
  },
  {
   "cell_type": "code",
   "execution_count": null,
   "id": "283bd21d",
   "metadata": {},
   "outputs": [],
   "source": []
  }
 ],
 "metadata": {
  "kernelspec": {
   "display_name": "Python 3 (ipykernel)",
   "language": "python",
   "name": "python3"
  },
  "language_info": {
   "codemirror_mode": {
    "name": "ipython",
    "version": 3
   },
   "file_extension": ".py",
   "mimetype": "text/x-python",
   "name": "python",
   "nbconvert_exporter": "python",
   "pygments_lexer": "ipython3",
   "version": "3.10.0"
  }
 },
 "nbformat": 4,
 "nbformat_minor": 5
}
